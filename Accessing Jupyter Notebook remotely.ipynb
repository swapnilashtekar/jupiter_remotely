{
 "cells": [
  {
   "cell_type": "markdown",
   "metadata": {},
   "source": [
    "Run Jupyter Notebook"
   ]
  },
  {
   "cell_type": "raw",
   "metadata": {},
   "source": [
    "jupyter notebook --no-browser --port=8889\n",
    "\n",
    "# you should leave the this open"
   ]
  },
  {
   "cell_type": "markdown",
   "metadata": {},
   "source": [
    "Run below in another terminal"
   ]
  },
  {
   "cell_type": "raw",
   "metadata": {},
   "source": [
    "ssh -N -f -L localhost:8888:localhost:8889 username@your_remote_host_name\n",
    "\n",
    "# make sure to change `username` to your real username in remote host\n",
    "# change `your_remote_host_name` to your address of your working station"
   ]
  },
  {
   "cell_type": "markdown",
   "metadata": {},
   "source": [
    "Open the browser and type"
   ]
  },
  {
   "cell_type": "raw",
   "metadata": {},
   "source": [
    "localhost:8888\n",
    "# you will see your notebooks in your given directory"
   ]
  },
  {
   "cell_type": "code",
   "execution_count": null,
   "metadata": {
    "collapsed": true
   },
   "outputs": [],
   "source": [
    "Then"
   ]
  }
 ],
 "metadata": {
  "kernelspec": {
   "display_name": "Python 2",
   "language": "python",
   "name": "python2"
  },
  "language_info": {
   "codemirror_mode": {
    "name": "ipython",
    "version": 2
   },
   "file_extension": ".py",
   "mimetype": "text/x-python",
   "name": "python",
   "nbconvert_exporter": "python",
   "pygments_lexer": "ipython2",
   "version": "2.7.10"
  }
 },
 "nbformat": 4,
 "nbformat_minor": 0
}
